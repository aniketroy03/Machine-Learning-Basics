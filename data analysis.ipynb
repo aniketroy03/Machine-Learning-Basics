{
 "cells": [
  {
   "cell_type": "code",
   "execution_count": 10,
   "metadata": {},
   "outputs": [],
   "source": [
    "import pandas as pd\n",
    "import numpy as np\n",
    "import matplotlib.pyplot as plt\n",
    "import seaborn as sns"
   ]
  },
  {
   "cell_type": "code",
   "execution_count": 11,
   "metadata": {},
   "outputs": [],
   "source": [
    "data = pd.read_excel('supplychain.xlsx')"
   ]
  },
  {
   "cell_type": "code",
   "execution_count": 12,
   "metadata": {},
   "outputs": [
    {
     "data": {
      "text/html": [
       "<div>\n",
       "<style scoped>\n",
       "    .dataframe tbody tr th:only-of-type {\n",
       "        vertical-align: middle;\n",
       "    }\n",
       "\n",
       "    .dataframe tbody tr th {\n",
       "        vertical-align: top;\n",
       "    }\n",
       "\n",
       "    .dataframe thead th {\n",
       "        text-align: right;\n",
       "    }\n",
       "</style>\n",
       "<table border=\"1\" class=\"dataframe\">\n",
       "  <thead>\n",
       "    <tr style=\"text-align: right;\">\n",
       "      <th></th>\n",
       "      <th>Source</th>\n",
       "      <th>Destination</th>\n",
       "      <th>Container Size</th>\n",
       "      <th>Carrier</th>\n",
       "      <th>Travel Mode</th>\n",
       "      <th>Fixed Freight Cost</th>\n",
       "      <th>Port/Airport/Rail Handling Cost</th>\n",
       "      <th>Bunker/ Fuel Cost</th>\n",
       "      <th>Documentation Cost</th>\n",
       "      <th>Equipment Cost</th>\n",
       "      <th>...</th>\n",
       "      <th>CustomClearance time (hours)</th>\n",
       "      <th>Port/Airport/Rail Handling time (hours)</th>\n",
       "      <th>Transit time (hours)</th>\n",
       "      <th>Monday</th>\n",
       "      <th>Tuesday</th>\n",
       "      <th>Wednesday</th>\n",
       "      <th>Thursday</th>\n",
       "      <th>Friday</th>\n",
       "      <th>Saturday</th>\n",
       "      <th>Sunday</th>\n",
       "    </tr>\n",
       "  </thead>\n",
       "  <tbody>\n",
       "    <tr>\n",
       "      <th>0</th>\n",
       "      <td>Singapore Port</td>\n",
       "      <td>Shanghai Port</td>\n",
       "      <td>67</td>\n",
       "      <td>COSCO</td>\n",
       "      <td>Sea</td>\n",
       "      <td>300</td>\n",
       "      <td>300</td>\n",
       "      <td>400</td>\n",
       "      <td>180</td>\n",
       "      <td>20</td>\n",
       "      <td>...</td>\n",
       "      <td>24</td>\n",
       "      <td>48</td>\n",
       "      <td>120.0</td>\n",
       "      <td>1</td>\n",
       "      <td>0</td>\n",
       "      <td>1</td>\n",
       "      <td>0</td>\n",
       "      <td>0</td>\n",
       "      <td>0</td>\n",
       "      <td>0</td>\n",
       "    </tr>\n",
       "    <tr>\n",
       "      <th>1</th>\n",
       "      <td>Shanghai Port</td>\n",
       "      <td>Singapore Port</td>\n",
       "      <td>67</td>\n",
       "      <td>COSCO</td>\n",
       "      <td>Sea</td>\n",
       "      <td>150</td>\n",
       "      <td>300</td>\n",
       "      <td>400</td>\n",
       "      <td>180</td>\n",
       "      <td>20</td>\n",
       "      <td>...</td>\n",
       "      <td>24</td>\n",
       "      <td>48</td>\n",
       "      <td>120.0</td>\n",
       "      <td>1</td>\n",
       "      <td>0</td>\n",
       "      <td>1</td>\n",
       "      <td>0</td>\n",
       "      <td>0</td>\n",
       "      <td>0</td>\n",
       "      <td>0</td>\n",
       "    </tr>\n",
       "    <tr>\n",
       "      <th>2</th>\n",
       "      <td>Singapore Port</td>\n",
       "      <td>Malaysia Port</td>\n",
       "      <td>34</td>\n",
       "      <td>COSCO</td>\n",
       "      <td>Sea</td>\n",
       "      <td>50</td>\n",
       "      <td>280</td>\n",
       "      <td>200</td>\n",
       "      <td>150</td>\n",
       "      <td>20</td>\n",
       "      <td>...</td>\n",
       "      <td>24</td>\n",
       "      <td>48</td>\n",
       "      <td>24.0</td>\n",
       "      <td>0</td>\n",
       "      <td>1</td>\n",
       "      <td>0</td>\n",
       "      <td>1</td>\n",
       "      <td>0</td>\n",
       "      <td>1</td>\n",
       "      <td>0</td>\n",
       "    </tr>\n",
       "    <tr>\n",
       "      <th>3</th>\n",
       "      <td>Malaysia Port</td>\n",
       "      <td>Singapore Port</td>\n",
       "      <td>34</td>\n",
       "      <td>COSCO</td>\n",
       "      <td>Sea</td>\n",
       "      <td>50</td>\n",
       "      <td>280</td>\n",
       "      <td>200</td>\n",
       "      <td>150</td>\n",
       "      <td>20</td>\n",
       "      <td>...</td>\n",
       "      <td>24</td>\n",
       "      <td>48</td>\n",
       "      <td>24.0</td>\n",
       "      <td>0</td>\n",
       "      <td>1</td>\n",
       "      <td>0</td>\n",
       "      <td>1</td>\n",
       "      <td>0</td>\n",
       "      <td>1</td>\n",
       "      <td>0</td>\n",
       "    </tr>\n",
       "    <tr>\n",
       "      <th>4</th>\n",
       "      <td>Shanghai Port</td>\n",
       "      <td>Malaysia Port</td>\n",
       "      <td>67</td>\n",
       "      <td>COSCO</td>\n",
       "      <td>Sea</td>\n",
       "      <td>300</td>\n",
       "      <td>180</td>\n",
       "      <td>400</td>\n",
       "      <td>130</td>\n",
       "      <td>20</td>\n",
       "      <td>...</td>\n",
       "      <td>24</td>\n",
       "      <td>48</td>\n",
       "      <td>96.0</td>\n",
       "      <td>0</td>\n",
       "      <td>0</td>\n",
       "      <td>1</td>\n",
       "      <td>0</td>\n",
       "      <td>0</td>\n",
       "      <td>1</td>\n",
       "      <td>0</td>\n",
       "    </tr>\n",
       "  </tbody>\n",
       "</table>\n",
       "<p>5 rows × 22 columns</p>\n",
       "</div>"
      ],
      "text/plain": [
       "           Source     Destination  Container Size Carrier Travel Mode  \\\n",
       "0  Singapore Port   Shanghai Port              67   COSCO         Sea   \n",
       "1   Shanghai Port  Singapore Port              67   COSCO         Sea   \n",
       "2  Singapore Port   Malaysia Port              34   COSCO         Sea   \n",
       "3   Malaysia Port  Singapore Port              34   COSCO         Sea   \n",
       "4   Shanghai Port   Malaysia Port              67   COSCO         Sea   \n",
       "\n",
       "   Fixed Freight Cost  Port/Airport/Rail Handling Cost  Bunker/ Fuel Cost  \\\n",
       "0                 300                              300                400   \n",
       "1                 150                              300                400   \n",
       "2                  50                              280                200   \n",
       "3                  50                              280                200   \n",
       "4                 300                              180                400   \n",
       "\n",
       "   Documentation Cost  Equipment Cost  ...  CustomClearance time (hours)  \\\n",
       "0                 180              20  ...                            24   \n",
       "1                 180              20  ...                            24   \n",
       "2                 150              20  ...                            24   \n",
       "3                 150              20  ...                            24   \n",
       "4                 130              20  ...                            24   \n",
       "\n",
       "   Port/Airport/Rail Handling time (hours)  Transit time (hours)  Monday  \\\n",
       "0                                       48                 120.0       1   \n",
       "1                                       48                 120.0       1   \n",
       "2                                       48                  24.0       0   \n",
       "3                                       48                  24.0       0   \n",
       "4                                       48                  96.0       0   \n",
       "\n",
       "   Tuesday  Wednesday  Thursday  Friday  Saturday  Sunday  \n",
       "0        0          1         0       0         0       0  \n",
       "1        0          1         0       0         0       0  \n",
       "2        1          0         1       0         1       0  \n",
       "3        1          0         1       0         1       0  \n",
       "4        0          1         0       0         1       0  \n",
       "\n",
       "[5 rows x 22 columns]"
      ]
     },
     "execution_count": 12,
     "metadata": {},
     "output_type": "execute_result"
    }
   ],
   "source": [
    "data.head()"
   ]
  },
  {
   "cell_type": "code",
   "execution_count": 13,
   "metadata": {},
   "outputs": [],
   "source": [
    "# from sklearn import preprocessing\n",
    "# le = preprocessing.LabelEncoder()\n",
    "\n",
    "# data['Source'] = le.fit_transform(data['Source'])\n",
    "# data['Destination'] = le.fit_transform(data['Destination'])\n",
    "# data['Carrier'] = le.fit_transform(data['Carrier'])\n",
    "# data['Travel Mode'] = le.fit_transform(data['Travel Mode'])"
   ]
  },
  {
   "cell_type": "code",
   "execution_count": 14,
   "metadata": {},
   "outputs": [
    {
     "data": {
      "text/html": [
       "<div>\n",
       "<style scoped>\n",
       "    .dataframe tbody tr th:only-of-type {\n",
       "        vertical-align: middle;\n",
       "    }\n",
       "\n",
       "    .dataframe tbody tr th {\n",
       "        vertical-align: top;\n",
       "    }\n",
       "\n",
       "    .dataframe thead th {\n",
       "        text-align: right;\n",
       "    }\n",
       "</style>\n",
       "<table border=\"1\" class=\"dataframe\">\n",
       "  <thead>\n",
       "    <tr style=\"text-align: right;\">\n",
       "      <th></th>\n",
       "      <th>Source</th>\n",
       "      <th>Destination</th>\n",
       "      <th>Container Size</th>\n",
       "      <th>Carrier</th>\n",
       "      <th>Travel Mode</th>\n",
       "      <th>Fixed Freight Cost</th>\n",
       "      <th>Port/Airport/Rail Handling Cost</th>\n",
       "      <th>Bunker/ Fuel Cost</th>\n",
       "      <th>Documentation Cost</th>\n",
       "      <th>Equipment Cost</th>\n",
       "      <th>...</th>\n",
       "      <th>CustomClearance time (hours)</th>\n",
       "      <th>Port/Airport/Rail Handling time (hours)</th>\n",
       "      <th>Transit time (hours)</th>\n",
       "      <th>Monday</th>\n",
       "      <th>Tuesday</th>\n",
       "      <th>Wednesday</th>\n",
       "      <th>Thursday</th>\n",
       "      <th>Friday</th>\n",
       "      <th>Saturday</th>\n",
       "      <th>Sunday</th>\n",
       "    </tr>\n",
       "  </thead>\n",
       "  <tbody>\n",
       "    <tr>\n",
       "      <th>0</th>\n",
       "      <td>Singapore Port</td>\n",
       "      <td>Shanghai Port</td>\n",
       "      <td>67</td>\n",
       "      <td>COSCO</td>\n",
       "      <td>Sea</td>\n",
       "      <td>300</td>\n",
       "      <td>300</td>\n",
       "      <td>400</td>\n",
       "      <td>180</td>\n",
       "      <td>20</td>\n",
       "      <td>...</td>\n",
       "      <td>24</td>\n",
       "      <td>48</td>\n",
       "      <td>120.0</td>\n",
       "      <td>1</td>\n",
       "      <td>0</td>\n",
       "      <td>1</td>\n",
       "      <td>0</td>\n",
       "      <td>0</td>\n",
       "      <td>0</td>\n",
       "      <td>0</td>\n",
       "    </tr>\n",
       "    <tr>\n",
       "      <th>1</th>\n",
       "      <td>Shanghai Port</td>\n",
       "      <td>Singapore Port</td>\n",
       "      <td>67</td>\n",
       "      <td>COSCO</td>\n",
       "      <td>Sea</td>\n",
       "      <td>150</td>\n",
       "      <td>300</td>\n",
       "      <td>400</td>\n",
       "      <td>180</td>\n",
       "      <td>20</td>\n",
       "      <td>...</td>\n",
       "      <td>24</td>\n",
       "      <td>48</td>\n",
       "      <td>120.0</td>\n",
       "      <td>1</td>\n",
       "      <td>0</td>\n",
       "      <td>1</td>\n",
       "      <td>0</td>\n",
       "      <td>0</td>\n",
       "      <td>0</td>\n",
       "      <td>0</td>\n",
       "    </tr>\n",
       "    <tr>\n",
       "      <th>2</th>\n",
       "      <td>Singapore Port</td>\n",
       "      <td>Malaysia Port</td>\n",
       "      <td>34</td>\n",
       "      <td>COSCO</td>\n",
       "      <td>Sea</td>\n",
       "      <td>50</td>\n",
       "      <td>280</td>\n",
       "      <td>200</td>\n",
       "      <td>150</td>\n",
       "      <td>20</td>\n",
       "      <td>...</td>\n",
       "      <td>24</td>\n",
       "      <td>48</td>\n",
       "      <td>24.0</td>\n",
       "      <td>0</td>\n",
       "      <td>1</td>\n",
       "      <td>0</td>\n",
       "      <td>1</td>\n",
       "      <td>0</td>\n",
       "      <td>1</td>\n",
       "      <td>0</td>\n",
       "    </tr>\n",
       "    <tr>\n",
       "      <th>3</th>\n",
       "      <td>Malaysia Port</td>\n",
       "      <td>Singapore Port</td>\n",
       "      <td>34</td>\n",
       "      <td>COSCO</td>\n",
       "      <td>Sea</td>\n",
       "      <td>50</td>\n",
       "      <td>280</td>\n",
       "      <td>200</td>\n",
       "      <td>150</td>\n",
       "      <td>20</td>\n",
       "      <td>...</td>\n",
       "      <td>24</td>\n",
       "      <td>48</td>\n",
       "      <td>24.0</td>\n",
       "      <td>0</td>\n",
       "      <td>1</td>\n",
       "      <td>0</td>\n",
       "      <td>1</td>\n",
       "      <td>0</td>\n",
       "      <td>1</td>\n",
       "      <td>0</td>\n",
       "    </tr>\n",
       "    <tr>\n",
       "      <th>4</th>\n",
       "      <td>Shanghai Port</td>\n",
       "      <td>Malaysia Port</td>\n",
       "      <td>67</td>\n",
       "      <td>COSCO</td>\n",
       "      <td>Sea</td>\n",
       "      <td>300</td>\n",
       "      <td>180</td>\n",
       "      <td>400</td>\n",
       "      <td>130</td>\n",
       "      <td>20</td>\n",
       "      <td>...</td>\n",
       "      <td>24</td>\n",
       "      <td>48</td>\n",
       "      <td>96.0</td>\n",
       "      <td>0</td>\n",
       "      <td>0</td>\n",
       "      <td>1</td>\n",
       "      <td>0</td>\n",
       "      <td>0</td>\n",
       "      <td>1</td>\n",
       "      <td>0</td>\n",
       "    </tr>\n",
       "  </tbody>\n",
       "</table>\n",
       "<p>5 rows × 22 columns</p>\n",
       "</div>"
      ],
      "text/plain": [
       "           Source     Destination  Container Size Carrier Travel Mode  \\\n",
       "0  Singapore Port   Shanghai Port              67   COSCO         Sea   \n",
       "1   Shanghai Port  Singapore Port              67   COSCO         Sea   \n",
       "2  Singapore Port   Malaysia Port              34   COSCO         Sea   \n",
       "3   Malaysia Port  Singapore Port              34   COSCO         Sea   \n",
       "4   Shanghai Port   Malaysia Port              67   COSCO         Sea   \n",
       "\n",
       "   Fixed Freight Cost  Port/Airport/Rail Handling Cost  Bunker/ Fuel Cost  \\\n",
       "0                 300                              300                400   \n",
       "1                 150                              300                400   \n",
       "2                  50                              280                200   \n",
       "3                  50                              280                200   \n",
       "4                 300                              180                400   \n",
       "\n",
       "   Documentation Cost  Equipment Cost  ...  CustomClearance time (hours)  \\\n",
       "0                 180              20  ...                            24   \n",
       "1                 180              20  ...                            24   \n",
       "2                 150              20  ...                            24   \n",
       "3                 150              20  ...                            24   \n",
       "4                 130              20  ...                            24   \n",
       "\n",
       "   Port/Airport/Rail Handling time (hours)  Transit time (hours)  Monday  \\\n",
       "0                                       48                 120.0       1   \n",
       "1                                       48                 120.0       1   \n",
       "2                                       48                  24.0       0   \n",
       "3                                       48                  24.0       0   \n",
       "4                                       48                  96.0       0   \n",
       "\n",
       "   Tuesday  Wednesday  Thursday  Friday  Saturday  Sunday  \n",
       "0        0          1         0       0         0       0  \n",
       "1        0          1         0       0         0       0  \n",
       "2        1          0         1       0         1       0  \n",
       "3        1          0         1       0         1       0  \n",
       "4        0          1         0       0         1       0  \n",
       "\n",
       "[5 rows x 22 columns]"
      ]
     },
     "execution_count": 14,
     "metadata": {},
     "output_type": "execute_result"
    }
   ],
   "source": [
    "data.head()"
   ]
  },
  {
   "cell_type": "code",
   "execution_count": 15,
   "metadata": {},
   "outputs": [
    {
     "data": {
      "text/plain": [
       "<seaborn.axisgrid.FacetGrid at 0x1793b221d30>"
      ]
     },
     "execution_count": 15,
     "metadata": {},
     "output_type": "execute_result"
    },
    {
     "data": {
      "image/png": "[encoded data removed]",
      "text/plain": [
       "<Figure size 360x360 with 1 Axes>"
      ]
     },
     "metadata": {
      "needs_background": "light"
     },
     "output_type": "display_data"
    }
   ],
   "source": [
    "sns.displot(data['Travel Mode'])"
   ]
  },
  {
   "cell_type": "code",
   "execution_count": 16,
   "metadata": {},
   "outputs": [
    {
     "data": {
      "image/png": "[encoded data removed]",
      "text/plain": [
       "<Figure size 432x288 with 1 Axes>"
      ]
     },
     "metadata": {
      "needs_background": "light"
     },
     "output_type": "display_data"
    }
   ],
   "source": [
    "plt.scatter(data['Travel Mode'], data['Transit time (hours)'])\n",
    "plt.xlabel('Mode of Transport')\n",
    "plt.ylabel('Transit Time')\n",
    "plt.title('Delivery time taken by transport')\n",
    "plt.show()"
   ]
  },
  {
   "cell_type": "code",
   "execution_count": 17,
   "metadata": {},
   "outputs": [
    {
     "data": {
      "text/plain": [
       "Source                                     16\n",
       "Destination                                16\n",
       "Container Size                              3\n",
       "Carrier                                     5\n",
       "Travel Mode                                 4\n",
       "Fixed Freight Cost                         10\n",
       "Port/Airport/Rail Handling Cost            11\n",
       "Bunker/ Fuel Cost                           7\n",
       "Documentation Cost                          8\n",
       "Equipment Cost                              5\n",
       "Warehouse Cost                              5\n",
       "Transit Duty                                3\n",
       "CustomClearance time (hours)                2\n",
       "Port/Airport/Rail Handling time (hours)     4\n",
       "Transit time (hours)                       12\n",
       "Monday                                      2\n",
       "Tuesday                                     2\n",
       "Wednesday                                   2\n",
       "Thursday                                    2\n",
       "Friday                                      2\n",
       "Saturday                                    2\n",
       "Sunday                                      2\n",
       "dtype: int64"
      ]
     },
     "execution_count": 17,
     "metadata": {},
     "output_type": "execute_result"
    }
   ],
   "source": [
    "data.nunique()"
   ]
  },
  {
   "cell_type": "code",
   "execution_count": 18,
   "metadata": {},
   "outputs": [
    {
     "data": {
      "text/plain": [
       "<seaborn.axisgrid.FacetGrid at 0x1793b221940>"
      ]
     },
     "execution_count": 18,
     "metadata": {},
     "output_type": "execute_result"
    },
    {
     "data": {
      "image/png": "[encoded data removed]",
      "text/plain": [
       "<Figure size 360x360 with 1 Axes>"
      ]
     },
     "metadata": {
      "needs_background": "light"
     },
     "output_type": "display_data"
    }
   ],
   "source": [
    "sns.relplot(x='Travel Mode', y='Container Size', data=data)"
   ]
  },
  {
   "cell_type": "code",
   "execution_count": 19,
   "metadata": {},
   "outputs": [
    {
     "data": {
      "text/plain": [
       "<seaborn.axisgrid.FacetGrid at 0x1793b324220>"
      ]
     },
     "execution_count": 19,
     "metadata": {},
     "output_type": "execute_result"
    },
    {
     "data": {
      "image/png": "[encoded data removed]",
      "text/plain": [
       "<Figure size 360x360 with 1 Axes>"
      ]
     },
     "metadata": {
      "needs_background": "light"
     },
     "output_type": "display_data"
    }
   ],
   "source": [
    "sns.relplot(x='Travel Mode', y='Fixed Freight Cost', data=data)"
   ]
  },
  {
   "cell_type": "code",
   "execution_count": 20,
   "metadata": {},
   "outputs": [
    {
     "data": {
      "text/plain": [
       "<seaborn.axisgrid.FacetGrid at 0x1793b374520>"
      ]
     },
     "execution_count": 20,
     "metadata": {},
     "output_type": "execute_result"
    },
    {
     "data": {
      "image/png": "[encoded data removed]",
      "text/plain": [
       "<Figure size 360x360 with 1 Axes>"
      ]
     },
     "metadata": {
      "needs_background": "light"
     },
     "output_type": "display_data"
    }
   ],
   "source": [
    "sns.relplot(x='Travel Mode', y='Port/Airport/Rail Handling Cost', data=data)"
   ]
  },
  {
   "cell_type": "code",
   "execution_count": 21,
   "metadata": {},
   "outputs": [
    {
     "data": {
      "text/plain": [
       "<seaborn.axisgrid.FacetGrid at 0x1793b32da60>"
      ]
     },
     "execution_count": 21,
     "metadata": {},
     "output_type": "execute_result"
    },
    {
     "data": {
      "image/png": "[encoded data removed]",
      "text/plain": [
       "<Figure size 360x360 with 1 Axes>"
      ]
     },
     "metadata": {
      "needs_background": "light"
     },
     "output_type": "display_data"
    }
   ],
   "source": [
    "sns.relplot(x='Travel Mode', y='Bunker/ Fuel Cost', data=data)"
   ]
  },
  {
   "cell_type": "code",
   "execution_count": null,
   "metadata": {},
   "outputs": [],
   "source": []
  }
 ],
 "metadata": {
  "kernelspec": {
   "display_name": "Python 3",
   "language": "python",
   "name": "python3"
  },
  "language_info": {
   "codemirror_mode": {
    "name": "ipython",
    "version": 3
   },
   "file_extension": ".py",
   "mimetype": "text/x-python",
   "name": "python",
   "nbconvert_exporter": "python",
   "pygments_lexer": "ipython3",
   "version": "3.8.5"
  }
 },
 "nbformat": 4,
 "nbformat_minor": 4
}
